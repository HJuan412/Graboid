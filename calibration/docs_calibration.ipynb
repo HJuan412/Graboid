{
 "cells": [
  {
   "cell_type": "markdown",
   "id": "d7dd5686",
   "metadata": {},
   "source": [
    "# Graboid documentation\n",
    "## Calibration\n",
    "This module performs the leave-one-out validation over different combinations of parameters explored trough a grid search"
   ]
  },
  {
   "cell_type": "markdown",
   "id": "ef2c974e",
   "metadata": {},
   "source": [
    "### Functions\n",
    "* **get_metrics(confusion, taxons)** REturns the *accuracy*, *precision*, *recall* and *F1 score* for each taxon in *taxons*\n",
    "* **get_report_filename(out_tab, mat_path)**\n",
    "* **loo_generator(nrecs)** Yields the indexes for the training dataset and the testing instance in leave-one-out calibration\n",
    "* **build_confusion(pred, real)** Build a confusion matrix from the given predicted (*pred*) and real (*real*) values. Returns the generated confusion matrix and an array containing the TaxIDs of the represented taxons\n",
    "* **build_cal_tab(pred_tax, real_tax, n_ranks = 6)** Builds a calibration result table from the given predicted values (*pred_tax*) and real values (*real_tax*). Returns array with columns *rank*, *taxon*, *accuracy*, *precision*, *recall*, *F1 score*\n",
    "* **loo_calibrate(garrus, w_size, w_step, max_k, step_k, max_sites, step_sites, dist_mat)**"
   ]
  },
  {
   "cell_type": "markdown",
   "id": "4e376bcb",
   "metadata": {},
   "source": [
    "### Calibrator\n",
    "**class Calibrator(out_dir, tmp_dir, warn_dir)**\n",
    "<ins>NOTE: currently named *Calibrator0*, replace *Calibrator* after testing</ins>\n",
    "\n",
    "This class handles the grid search for a range of different parameters. Stores the result files. Allow resetting of taxonomic rank and distance matrix used in feature selection and cluster data calculation\n",
    "\n",
    "#### Parameters\n",
    "* **out_dir**\n",
    "* **tmp_dir**\n",
    "* **warn_dir**\n",
    "\n",
    "#### Attributes\n",
    "* **out_dir** Target directory for the generated reports\n",
    "* **warn_dir** Target directory for the generated warning files\n",
    "* **log_handler** Handler for the generated logs\n",
    "* **warn_handler** Handler for the generated warnings\n",
    "* **loader** *WindowLoader* instance used to retrieve the appropriate windows in each step of the calibration\n",
    "* **row_thresh** Threshold proportion of empty rows to filter. Default: 0.2\n",
    "* **col_thresh** Threshold proportion of empty columns to filter. Default: 0.2\n",
    "* **min_seqs** Minimum sequences to admit a taxon. Default: 10\n",
    "* **rank** Rank to be used in the feature selection step. Default: 'genus'\n",
    "* **cost_mat** Cost matrix to be used in distance calculation. Default: K2P matrix with transitions = 1 and transversions = 2\n",
    "* **report** Dataframe with the results of the last calibration round\n",
    "\n",
    "#### Methods\n",
    "* **set_database(mat_file, acc_file, tax_file)** Instantiate the *loader* object, passing *mat_file*, *acc_file*, *tax_file* as input files for the sequence data, accession list and taxonomy table respectively\n",
    "* **set_row_thresh(thresh = 0.2)** Reset *row_thresh*\n",
    "* **set_col_thresh(thresh = 0.2)** Reset *col_thresh*\n",
    "* **set_min_seqs(thresh = 0.2)** Reset *min_seqs*\n",
    "* **set_rank(rank = 'genus')** Reset *rank*\n",
    "* **set_cost_mat(transition = 1, transversion = 2, id = False)** Reset *cost_mat* with the given values for *transition* and *transversion*. If *id* is True, use an identity matrix instead\n",
    "* **grid_search(w_size, w_step, max_k, step_k, max_n, step_n, min_k = 1, min_n = 5)** Perform a grid search for the given parameter ranges. Arguments *w_size* and *w_step* determine the length and displacement speed of the sliding window. Arguments *max_k* and *step_k* determine the range of *k*, optional argument *min_k* sets the lower bound to the range. Arguments *max_n* and *step_n* determine the range of *n*, optional argument *min_n* sets the lower bound to the range. If The last sliding window overshoots the alignment length, replace it with a tail window, starting *w_size* places before the alignment end. For each window perform leave-one-out calibration for every combination of *k* and *n*, using the three classification modes (*majority*, *wknn*, *dwknn*). Generate a dataframe with columns *rank*, *taxon*, *accuracy*, *precision*, *recall*, *F1_score*, *w_start*, *w_end*, *K*, *n_sites*, and *mode*. Store it to *report*\n",
    "* **save_report(filename)** Save the last generated report to the given *filename* (in *out_dir*)"
   ]
  }
 ],
 "metadata": {
  "kernelspec": {
   "display_name": "Python 3",
   "language": "python",
   "name": "python3"
  },
  "language_info": {
   "codemirror_mode": {
    "name": "ipython",
    "version": 3
   },
   "file_extension": ".py",
   "mimetype": "text/x-python",
   "name": "python",
   "nbconvert_exporter": "python",
   "pygments_lexer": "ipython3",
   "version": "3.9.6"
  }
 },
 "nbformat": 4,
 "nbformat_minor": 5
}
