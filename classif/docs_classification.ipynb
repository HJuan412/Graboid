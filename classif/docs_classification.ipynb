{
 "cells": [
  {
   "cell_type": "markdown",
   "id": "d8054967",
   "metadata": {},
   "source": [
    "# Graboid documentation\n",
    "## Classification\n",
    "This module contains the functions used in KNN classification of sequence data"
   ]
  },
  {
   "cell_type": "markdown",
   "id": "4d39d1e1",
   "metadata": {},
   "source": [
    "### Functions\n",
    "* **calc_distance(seq1, seq2, dist_mat)** Returns the distance between *seq1* and *seq2* using *dist_mat*. <ins>NOTE: moved from *distance* delete that one</ins>\n",
    "* **get_dists(query, data, dist_mat)** Returns the distance between *query* and the sequences in the *data* matrix using *dist_mat*\n",
    "* **get_neighs(q, data, dist_mat)** Get *q*'s neighbours in *data* ordered by their proximity to *q*. Also returns the sorted distances, calculated using *dist_mat*\n",
    "* **wknn(dists)** Returns the weighted support for the given distances (*dists*) using the WKNN equation\n",
    "* **dwknn(dists)** Returns the weighted support for the given distances (*dists*) using the DWKNN equation\n",
    "* **softmax(supports)** Calculates the softamx activation given an array of supports. <ins>NOTE: could implement this in the weighted classification</ins>\n",
    "* **classify**\n",
    "* **calibration_classify(q, k_rankge, data, tax_tab, dist_mat, q_name = 0)** Calibration of a single instance using a range of neighbours and all classification methods. Argument *q* is the query instance, *k_range* is the range of neighbours to utilize, *data* is the reference sequence matrix, *tax_tab* is the taxonomy table for the reference data, *dist_mat* is the distance matrix to be used in the classification, *q_name* is the numeric value of the query, used to organize results. Returns three arrays *maj_resutls*, *wknn_results*, and *dwknn_results* containing the classification results generated for each method\n",
    "* **classify_majority(neighs, tax_tab, q_name = 0, total_k = 1)** Classify a query instance selecting for each rank the most represented taxon amongst the given *neighs*. Returns an array with columns *q_name*, *rank*, *taxon*, *max value*, *total_k*\n",
    "* **classify_weighted(neighs, supports, tax_tab, q_name = 0, total_k = 1)** Classify a query instance using the weighted *supports* of the given *neighs*. Taxonomy for the provided neighbours is given in *tax_tab*. Argument *q_name* is used to name the query in the result table. Argument *total_k* indicates the number of neighbours considered. Returns an array with columns *query name*, *rank*, *taxon*, *representative count*, *total_k*, *total tax support*, *mean taxon support*, *std taxon supports*, detailing the support for each rank in each taxon\n",
    "* **get_classif(results, mode = 'majority')** Gets a classification from the given result table. Argument *mode* specifies the classification method used to generate the result, values are *majority* and *weighted*\n",
    "* **get_classif_majority(results, n_ranks = 6)** Get the classification from a majority vote result table. Assign the most represented taxon for each rank, if there is a draw, leave the classification ambiguous. Returns an array with the assigned taxon for each rank\n",
    "* **get_classif_weighted(results, n_ranks = 6)** Get the classification from a weighted vote result table. Assign the most supported taxon for each rank, if there is a draw, leave the classification ambiguous. Returns an array with the assigned taxon for each rank <ins>NOTE: could add the softmax support for the assigned classification</ins>"
   ]
  },
  {
   "cell_type": "markdown",
   "id": "41d151b3",
   "metadata": {},
   "source": [
    "### Cost matrix\n",
    "This module contains the functions used to generate the cost matrixes used in distance calculations\n",
    "#### Functions\n",
    "* **pair_idxs(bases0, bases1)** Called by *cost_matrix*, used to calculate distances between ambiguous bases\n",
    "* **cost_matrix(transition = 1, transversion = 2)** Generates a distance matrix based on the K2P substitution model. Arguments *transition* and *transversion* determine how these substitutions are penalized\n",
    "* **id_matrix()** Generates an ID matrix with diagonal values 0 (except cell 0,0) and all else are 1"
   ]
  },
  {
   "cell_type": "markdown",
   "id": "96032b41",
   "metadata": {},
   "source": [
    "### Director\n",
    "This module directs the classification of query sequences of unknown taxonomy\n",
    "#### Functions\n",
    "* **get_taxonomy(taxa, taxguide)** Given a *taxa* list, reconstruct the taxonomy for each taxon, retrieving parent taxon IDs from the given *taxguide*. Return a dictionary of elements taxID:\\[\\<taxonomy IDs (ascending)>\\]. Also returns a list of all given taxa not found in the taxguide table\n",
    "* **get_best_params(subreport, metric = 'F1_score')** Takes a subsection of a calibration report. Return average score of *metric* for each combination of parameters (*w_start*, *K* and *n_sites*) represented in *subreport*\n",
    "* **get_valid_windows(windows, overlap, crop = True)** Filter out windows not included in the space in which the query and reference matrixes overlap. If *crop* is True, windows that overlap partially are cropped, otherwise they are discarded\n",
    "\n",
    "#### Director\n",
    "**class Director(out_dir, tmp_dir)**\n",
    "This class directs the mapping and classification of an input sequence file.\n",
    "\n",
    "##### Attributes\n",
    "* **out_dir** Directory to which the results will be saved\n",
    "* **tmp_dir** Directory to which the temporal files will be saved\n",
    "* **mat_file** Path to the reference matrix file\n",
    "* **acc_file** Path to the reference accession file\n",
    "* **tax_file** Path to the reference taxonomy file\n",
    "* **report** Calibration report file\n",
    "* **w_len** Window length used in the calibration (inferred by the *set_report* method)\n",
    "* **w_step** Window step used in the calibration (inferred by the *set_report* method)\n",
    "* **taxa** List of taxa to look forward to\n",
    "* **fasta_file** Path to the last query file fed to the *map_query* method\n",
    "* **query_blast** Path to the last blast report generated by the *map_query* method\n",
    "* **query_map** Path to the last alignment matrix generated by the *map_query* method\n",
    "* **query_accs** Path to the last accession list generated by the *map_query* method\n",
    "* **windows**\n",
    "* **params**\n",
    "* **query_blast**\n",
    "* **query_map**\n",
    "* **result**\n",
    "* **mapper** Mapper instance used to generate an alignment matrix for the query sequences\n",
    "* **loader** *WindowLoader* instance used to select window fragments from the reference matrix\n",
    "* **selector** *Selector0* instance used to select the informative sites required for classification\n",
    "\n",
    "##### Methods\n",
    "* **set_reference(mat_file, acc_file, tax_file)**\n",
    "* **set_db(db_dir)** Set the given blast database directory on the *mapper* instance. Should be the same datbase used to generate the reference alignment\n",
    "* **set_report(report_file)**\n",
    "* **set_taxa(taxa)** Set a given set of taxa to prioritize in the classification\n",
    "* **map_query(fasta_file, db_dir, threads = 1)** Build an alignment matrix for the query sequence file. Uses *mapping* module\n",
    "* **get_windows(metric = 'F1_score', min_overlap = 0.9)** Selects the best window to be used for each query sequence based on the calibration report using the chosen *metric*. For a window to be considered, it must over lap with at least a fraction of *min_overlap* with a given match. Updates the *windows* attribute with a dataframe with columns *w_start*, *w_end*, *K*, and *n_sites* for each query sequence.\n",
    "* **hint_params(w_start, w_end, metric = 'F1_score')** Get the best parameter sets for the windows defined by coordinates *w_start* and *w_end*, determined by the highest score for the given *metric*. If a set of *taxa* has been defined, establish the parameters that yeld the best results for each taxon in each window (if the taxon is present).\n",
    "* **get_overlap()** Gets the coordinates of the overlapping section between the query and reference alignments (if there is any. If there is an overlap, returns True and the overlap coordinates, otherwise returns False and None\n",
    "* **classify_manual(w_start, w_end, k, n, mode = 'mwd', crop = True)** Performs a classification using the given parameters. If a single value for *w_start* is given, it and *w_end* are taken as the coordinates of the sinlge window to be used. Otherwise, each *w_start* value is taken as a window starting position and *w_end* is taken as the window length. Parameters *k* and *n* can be either single values or ranges. If multiple values are provided, each combination is tested. <ins>NOTE: if multiple *n* values are given, call the *get_sites* method of the *Selector* instance. This generates a dictionary with the sites that are incorporated with each incremental value of n. For each iteration, the distance is calculated using only the new additions, and the results of the previous iteration are added afterwards. This cumulative method should reduce computation time via the elimination of redundant calculations</ins>. For each value of *n* classify trying every given *k* value and every given *mode*. The *mode* argument represents the distance calculation modes to be used (*m*: majority, *w*: wKNN, *d*: dwKNN). Argument *crop* determines what is done with the call to *get_valid_windows*\n",
    "* **classify_with_params()**"
   ]
  }
 ],
 "metadata": {
  "kernelspec": {
   "display_name": "Python 3",
   "language": "python",
   "name": "python3"
  },
  "language_info": {
   "codemirror_mode": {
    "name": "ipython",
    "version": 3
   },
   "file_extension": ".py",
   "mimetype": "text/x-python",
   "name": "python",
   "nbconvert_exporter": "python",
   "pygments_lexer": "ipython3",
   "version": "3.9.6"
  }
 },
 "nbformat": 4,
 "nbformat_minor": 5
}
