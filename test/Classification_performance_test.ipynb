{
 "cells": [
  {
   "cell_type": "markdown",
   "id": "3af7e7a0-93ad-45b1-878c-6b898202ac14",
   "metadata": {},
   "source": [
    "# Primers data\n",
    "\n",
    "Primers table\n",
    "\n",
    "|PRIMER pair|Forward|Reverse|min—max amplicon length (bp)|Reference|\n",
    "|:-|:-|:-|:-|:-|\n",
    "|1391f/EukBr|GTACACACCGCCCGTC|TGATCCTTCTGCAGGTTCACCTAC|50–250|Ficetola et al|\n",
    "|1813F/2646R|CTGCGTGAGAGGTGAAAT|GCTACCTTGTTACGACTTTT|500–1000|Ficetola et al|\n",
    "|18SILVOmidF/18SILVOmidR|CAAGTCTGGTGCCAGCAG|GAGTCTCGCTCGTTATCGG|500–1000|Ficetola et al|\n",
    "|3NDf/1132rmod|GGCAAGTCTGGTGCCAG|TCCGTCAATTYCTTTAAGT|300–700|Ficetola et al|\n",
    "|EcoF/EcoR|GGTTAAAAMGYTCGTAGTTG|TGGTGGTGCCCTTCCGTCA|300–700|Ficetola et al|\n",
    "|Ek-NSF573/Ek-NSR951|CGCGGTAATTCCAGCTCCA|TTGGYRAATGCTTTCGC|200–500|Ficetola et al|\n",
    "|Euka02|TTTGTCTGSTTRATTSCG|CACAGACCTGTTATTGC|30–400|Ficetola et al|\n",
    "|F_1183/R_1631|AATTTGACTCAACACGGG|TACAAAGGGCAGGGACG|300–600|Ficetola et al|\n",
    "|FO4/R22|GCTTGTCTCAAAGATTAAGCC|GCCTGCTGCCTTCCTTGGA|200–500|Ficetola et al|\n",
    "|MMSF/MMSR|GGTGCCAGCAGCCGCGGTA|CTTTAAGTTTCAGCTTTGC|300–700|Ficetola et al|\n",
    "|Nema02|AAGTCTGGTGCCAGCAGC|GTTTACGGTYAGAACTAGGG|325–801|Ficetola et al|\n",
    "|NemF/18Sr2b|GGGGAAGTATGGTTGCAAA|TACAAAGGGCAGGGACGTAAT|300–700|Ficetola et al|\n",
    "|NemFopt/18Sr2bopt|GGGGWAGTATGGTTGCAAA|TGTGTACAAAKGRCAGGGAC|300–700|Ficetola et al|\n",
    "|NF1/18Sr2b|GGTGGTGCATGGCCGTTCTTAGTT|TACAAAGGGCAGGGACGTAAT|200–500|Ficetola et al|\n",
    "|SSU_F04/SSU_R22|GCTTGTCTCAAAGATTAAGCC|CCTGCTGCCTTCCTTGGA|200–500|Ficetola et al|"
   ]
  }
 ],
 "metadata": {
  "kernelspec": {
   "display_name": "Python 3 (ipykernel)",
   "language": "python",
   "name": "python3"
  },
  "language_info": {
   "codemirror_mode": {
    "name": "ipython",
    "version": 3
   },
   "file_extension": ".py",
   "mimetype": "text/x-python",
   "name": "python",
   "nbconvert_exporter": "python",
   "pygments_lexer": "ipython3",
   "version": "3.12.2"
  }
 },
 "nbformat": 4,
 "nbformat_minor": 5
}
